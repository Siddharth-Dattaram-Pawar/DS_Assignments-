{
  "cells": [
    {
      "cell_type": "markdown",
      "metadata": {
        "id": "IRpRuj4LFKaT"
      },
      "source": [
        "\n",
        "Name : Siddharth Pawar\n",
        "\n",
        "NUID : 002225020\n",
        "Assignment 1 : ML Data Cleaning and Feature Selection"
      ]
    },
    {
      "cell_type": "markdown",
      "metadata": {
        "id": "HPjzMmdNFQqy"
      },
      "source": [
        "**Abstract**\n",
        "\n",
        "GrubHub, a leading online food delivery and takeout platform, has transformed the culinary landscape by seamlessly connecting diners with an extensive network of restaurants. The aim of this Notebook is to check the data quality and determine the significant features that result in variation of review_ratings of GrubHub. We will do so by answering the set of questions below:\n",
        "\n",
        "What are the data types? (Only numeric and categorical)\n",
        "\n",
        "Are there missing values?\n",
        "\n",
        "What are the likely distributions of the numeric variables?\n",
        "\n",
        "Which independent variables are useful to predict a target (dependent variable)? (Use at least three methods)\n",
        "\n",
        "Which independent variables have missing data? How much?\n",
        "\n",
        "Do the training and test sets have the same data?\n",
        "\n",
        "In the predictor variables independent of all the other predictor variables?\n",
        "\n",
        "Which predictor variables are the most important?\n",
        "\n",
        "Do the ranges of the predictor variables make sense?\n",
        "\n",
        "What are the distributions of the predictor variables?"
      ]
    },
    {
      "cell_type": "code",
      "execution_count": 1,
      "metadata": {
        "id": "5yCvRhtjF2mp"
      },
      "outputs": [],
      "source": [
        "import pandas as pd\n",
        "import numpy as np\n",
        "import matplotlib.pyplot as plt\n",
        "import seaborn as sns"
      ]
    },
    {
      "cell_type": "code",
      "execution_count": 2,
      "metadata": {
        "id": "s-ldbj_MGBeT",
        "colab": {
          "base_uri": "https://localhost:8080/",
          "height": 73
        },
        "outputId": "7b8a5d59-132d-4a42-c946-df33570f5b5f"
      },
      "outputs": [
        {
          "output_type": "display_data",
          "data": {
            "text/plain": [
              "<IPython.core.display.HTML object>"
            ],
            "text/html": [
              "\n",
              "     <input type=\"file\" id=\"files-80734daf-87bf-40c6-bba8-ad17559a9664\" name=\"files[]\" multiple disabled\n",
              "        style=\"border:none\" />\n",
              "     <output id=\"result-80734daf-87bf-40c6-bba8-ad17559a9664\">\n",
              "      Upload widget is only available when the cell has been executed in the\n",
              "      current browser session. Please rerun this cell to enable.\n",
              "      </output>\n",
              "      <script>// Copyright 2017 Google LLC\n",
              "//\n",
              "// Licensed under the Apache License, Version 2.0 (the \"License\");\n",
              "// you may not use this file except in compliance with the License.\n",
              "// You may obtain a copy of the License at\n",
              "//\n",
              "//      http://www.apache.org/licenses/LICENSE-2.0\n",
              "//\n",
              "// Unless required by applicable law or agreed to in writing, software\n",
              "// distributed under the License is distributed on an \"AS IS\" BASIS,\n",
              "// WITHOUT WARRANTIES OR CONDITIONS OF ANY KIND, either express or implied.\n",
              "// See the License for the specific language governing permissions and\n",
              "// limitations under the License.\n",
              "\n",
              "/**\n",
              " * @fileoverview Helpers for google.colab Python module.\n",
              " */\n",
              "(function(scope) {\n",
              "function span(text, styleAttributes = {}) {\n",
              "  const element = document.createElement('span');\n",
              "  element.textContent = text;\n",
              "  for (const key of Object.keys(styleAttributes)) {\n",
              "    element.style[key] = styleAttributes[key];\n",
              "  }\n",
              "  return element;\n",
              "}\n",
              "\n",
              "// Max number of bytes which will be uploaded at a time.\n",
              "const MAX_PAYLOAD_SIZE = 100 * 1024;\n",
              "\n",
              "function _uploadFiles(inputId, outputId) {\n",
              "  const steps = uploadFilesStep(inputId, outputId);\n",
              "  const outputElement = document.getElementById(outputId);\n",
              "  // Cache steps on the outputElement to make it available for the next call\n",
              "  // to uploadFilesContinue from Python.\n",
              "  outputElement.steps = steps;\n",
              "\n",
              "  return _uploadFilesContinue(outputId);\n",
              "}\n",
              "\n",
              "// This is roughly an async generator (not supported in the browser yet),\n",
              "// where there are multiple asynchronous steps and the Python side is going\n",
              "// to poll for completion of each step.\n",
              "// This uses a Promise to block the python side on completion of each step,\n",
              "// then passes the result of the previous step as the input to the next step.\n",
              "function _uploadFilesContinue(outputId) {\n",
              "  const outputElement = document.getElementById(outputId);\n",
              "  const steps = outputElement.steps;\n",
              "\n",
              "  const next = steps.next(outputElement.lastPromiseValue);\n",
              "  return Promise.resolve(next.value.promise).then((value) => {\n",
              "    // Cache the last promise value to make it available to the next\n",
              "    // step of the generator.\n",
              "    outputElement.lastPromiseValue = value;\n",
              "    return next.value.response;\n",
              "  });\n",
              "}\n",
              "\n",
              "/**\n",
              " * Generator function which is called between each async step of the upload\n",
              " * process.\n",
              " * @param {string} inputId Element ID of the input file picker element.\n",
              " * @param {string} outputId Element ID of the output display.\n",
              " * @return {!Iterable<!Object>} Iterable of next steps.\n",
              " */\n",
              "function* uploadFilesStep(inputId, outputId) {\n",
              "  const inputElement = document.getElementById(inputId);\n",
              "  inputElement.disabled = false;\n",
              "\n",
              "  const outputElement = document.getElementById(outputId);\n",
              "  outputElement.innerHTML = '';\n",
              "\n",
              "  const pickedPromise = new Promise((resolve) => {\n",
              "    inputElement.addEventListener('change', (e) => {\n",
              "      resolve(e.target.files);\n",
              "    });\n",
              "  });\n",
              "\n",
              "  const cancel = document.createElement('button');\n",
              "  inputElement.parentElement.appendChild(cancel);\n",
              "  cancel.textContent = 'Cancel upload';\n",
              "  const cancelPromise = new Promise((resolve) => {\n",
              "    cancel.onclick = () => {\n",
              "      resolve(null);\n",
              "    };\n",
              "  });\n",
              "\n",
              "  // Wait for the user to pick the files.\n",
              "  const files = yield {\n",
              "    promise: Promise.race([pickedPromise, cancelPromise]),\n",
              "    response: {\n",
              "      action: 'starting',\n",
              "    }\n",
              "  };\n",
              "\n",
              "  cancel.remove();\n",
              "\n",
              "  // Disable the input element since further picks are not allowed.\n",
              "  inputElement.disabled = true;\n",
              "\n",
              "  if (!files) {\n",
              "    return {\n",
              "      response: {\n",
              "        action: 'complete',\n",
              "      }\n",
              "    };\n",
              "  }\n",
              "\n",
              "  for (const file of files) {\n",
              "    const li = document.createElement('li');\n",
              "    li.append(span(file.name, {fontWeight: 'bold'}));\n",
              "    li.append(span(\n",
              "        `(${file.type || 'n/a'}) - ${file.size} bytes, ` +\n",
              "        `last modified: ${\n",
              "            file.lastModifiedDate ? file.lastModifiedDate.toLocaleDateString() :\n",
              "                                    'n/a'} - `));\n",
              "    const percent = span('0% done');\n",
              "    li.appendChild(percent);\n",
              "\n",
              "    outputElement.appendChild(li);\n",
              "\n",
              "    const fileDataPromise = new Promise((resolve) => {\n",
              "      const reader = new FileReader();\n",
              "      reader.onload = (e) => {\n",
              "        resolve(e.target.result);\n",
              "      };\n",
              "      reader.readAsArrayBuffer(file);\n",
              "    });\n",
              "    // Wait for the data to be ready.\n",
              "    let fileData = yield {\n",
              "      promise: fileDataPromise,\n",
              "      response: {\n",
              "        action: 'continue',\n",
              "      }\n",
              "    };\n",
              "\n",
              "    // Use a chunked sending to avoid message size limits. See b/62115660.\n",
              "    let position = 0;\n",
              "    do {\n",
              "      const length = Math.min(fileData.byteLength - position, MAX_PAYLOAD_SIZE);\n",
              "      const chunk = new Uint8Array(fileData, position, length);\n",
              "      position += length;\n",
              "\n",
              "      const base64 = btoa(String.fromCharCode.apply(null, chunk));\n",
              "      yield {\n",
              "        response: {\n",
              "          action: 'append',\n",
              "          file: file.name,\n",
              "          data: base64,\n",
              "        },\n",
              "      };\n",
              "\n",
              "      let percentDone = fileData.byteLength === 0 ?\n",
              "          100 :\n",
              "          Math.round((position / fileData.byteLength) * 100);\n",
              "      percent.textContent = `${percentDone}% done`;\n",
              "\n",
              "    } while (position < fileData.byteLength);\n",
              "  }\n",
              "\n",
              "  // All done.\n",
              "  yield {\n",
              "    response: {\n",
              "      action: 'complete',\n",
              "    }\n",
              "  };\n",
              "}\n",
              "\n",
              "scope.google = scope.google || {};\n",
              "scope.google.colab = scope.google.colab || {};\n",
              "scope.google.colab._files = {\n",
              "  _uploadFiles,\n",
              "  _uploadFilesContinue,\n",
              "};\n",
              "})(self);\n",
              "</script> "
            ]
          },
          "metadata": {}
        },
        {
          "output_type": "stream",
          "name": "stdout",
          "text": [
            "Saving grubhub.csv to grubhub.csv\n"
          ]
        }
      ],
      "source": [
        "from google.colab import files\n",
        "uploaded = files.upload()"
      ]
    },
    {
      "cell_type": "code",
      "source": [
        "df = pd.read_csv('/content/grubhub.csv')"
      ],
      "metadata": {
        "id": "Rqfffr5K0Skm"
      },
      "execution_count": 3,
      "outputs": []
    },
    {
      "cell_type": "code",
      "execution_count": null,
      "metadata": {
        "colab": {
          "base_uri": "https://localhost:8080/",
          "height": 759
        },
        "id": "nrBXJdqYGFn3",
        "outputId": "3d190418-c56e-4bb8-9c96-7130e58ad53f"
      },
      "outputs": [
        {
          "data": {
            "text/html": [
              "<div>\n",
              "<style scoped>\n",
              "    .dataframe tbody tr th:only-of-type {\n",
              "        vertical-align: middle;\n",
              "    }\n",
              "\n",
              "    .dataframe tbody tr th {\n",
              "        vertical-align: top;\n",
              "    }\n",
              "\n",
              "    .dataframe thead th {\n",
              "        text-align: right;\n",
              "    }\n",
              "</style>\n",
              "<table border=\"1\" class=\"dataframe\">\n",
              "  <thead>\n",
              "    <tr style=\"text-align: right;\">\n",
              "      <th></th>\n",
              "      <th>searched_zipcode</th>\n",
              "      <th>searched_lat</th>\n",
              "      <th>searched_lng</th>\n",
              "      <th>searched_address</th>\n",
              "      <th>searched_state</th>\n",
              "      <th>searched_city</th>\n",
              "      <th>searched_metro</th>\n",
              "      <th>is_gh</th>\n",
              "      <th>latitude</th>\n",
              "      <th>longitude</th>\n",
              "      <th>...</th>\n",
              "      <th>delivery_fee</th>\n",
              "      <th>delivery_time_raw</th>\n",
              "      <th>delivery_time</th>\n",
              "      <th>service_fee</th>\n",
              "      <th>phone</th>\n",
              "      <th>review_count</th>\n",
              "      <th>review_rating</th>\n",
              "      <th>RunDate</th>\n",
              "      <th>restaurant_tags</th>\n",
              "      <th>delivery_type</th>\n",
              "    </tr>\n",
              "  </thead>\n",
              "  <tbody>\n",
              "    <tr>\n",
              "      <th>0</th>\n",
              "      <td>11216</td>\n",
              "      <td>40.678832</td>\n",
              "      <td>-73.950677</td>\n",
              "      <td>300 Madison St, Brooklyn, NY 11216, USA</td>\n",
              "      <td>NY</td>\n",
              "      <td>Brooklyn</td>\n",
              "      <td>NY</td>\n",
              "      <td>$0 with GH+</td>\n",
              "      <td>40.678829</td>\n",
              "      <td>-73.949867</td>\n",
              "      <td>...</td>\n",
              "      <td>0.00</td>\n",
              "      <td>35-45</td>\n",
              "      <td>40.0</td>\n",
              "      <td>0.00</td>\n",
              "      <td>3476278080</td>\n",
              "      <td>1691</td>\n",
              "      <td>4.57</td>\n",
              "      <td>2022-04-25 07:01:11</td>\n",
              "      <td>[\"PRICING_ELIGIBLE_FOR_STANDARD_ORDER\", \"SUBSC...</td>\n",
              "      <td>SELF</td>\n",
              "    </tr>\n",
              "    <tr>\n",
              "      <th>1</th>\n",
              "      <td>11216</td>\n",
              "      <td>40.678832</td>\n",
              "      <td>-73.950677</td>\n",
              "      <td>300 Madison St, Brooklyn, NY 11216, USA</td>\n",
              "      <td>NY</td>\n",
              "      <td>Brooklyn</td>\n",
              "      <td>NY</td>\n",
              "      <td>$0 with GH+</td>\n",
              "      <td>40.678715</td>\n",
              "      <td>-73.949875</td>\n",
              "      <td>...</td>\n",
              "      <td>0.00</td>\n",
              "      <td>35-55</td>\n",
              "      <td>45.0</td>\n",
              "      <td>0.00</td>\n",
              "      <td>7188577011</td>\n",
              "      <td>697</td>\n",
              "      <td>4.77</td>\n",
              "      <td>2022-04-25 07:01:11</td>\n",
              "      <td>[\"PRICING_ELIGIBLE_FOR_STANDARD_ORDER\", \"SUBSC...</td>\n",
              "      <td>SELF</td>\n",
              "    </tr>\n",
              "    <tr>\n",
              "      <th>2</th>\n",
              "      <td>11216</td>\n",
              "      <td>40.678832</td>\n",
              "      <td>-73.950677</td>\n",
              "      <td>300 Madison St, Brooklyn, NY 11216, USA</td>\n",
              "      <td>NY</td>\n",
              "      <td>Brooklyn</td>\n",
              "      <td>NY</td>\n",
              "      <td>$0 with GH+</td>\n",
              "      <td>40.678879</td>\n",
              "      <td>-73.949448</td>\n",
              "      <td>...</td>\n",
              "      <td>1.99</td>\n",
              "      <td>20-35</td>\n",
              "      <td>27.5</td>\n",
              "      <td>10.00</td>\n",
              "      <td>7186223222</td>\n",
              "      <td>11</td>\n",
              "      <td>3.67</td>\n",
              "      <td>2022-04-25 07:01:11</td>\n",
              "      <td>[\"SUBSCRIPTION_ELIGIBLE_FOR_STANDARD_ORDER\"]</td>\n",
              "      <td>GRUBHUB</td>\n",
              "    </tr>\n",
              "    <tr>\n",
              "      <th>3</th>\n",
              "      <td>11216</td>\n",
              "      <td>40.678832</td>\n",
              "      <td>-73.950677</td>\n",
              "      <td>300 Madison St, Brooklyn, NY 11216, USA</td>\n",
              "      <td>NY</td>\n",
              "      <td>Brooklyn</td>\n",
              "      <td>NY</td>\n",
              "      <td>$0 with GH+</td>\n",
              "      <td>40.678638</td>\n",
              "      <td>-73.949463</td>\n",
              "      <td>...</td>\n",
              "      <td>1.99</td>\n",
              "      <td>25-35</td>\n",
              "      <td>30.0</td>\n",
              "      <td>7.25</td>\n",
              "      <td>3472408610</td>\n",
              "      <td>208</td>\n",
              "      <td>4.05</td>\n",
              "      <td>2022-04-25 07:01:11</td>\n",
              "      <td>[\"PRICING_ELIGIBLE_FOR_STANDARD_ORDER\", \"SUBSC...</td>\n",
              "      <td>GRUBHUB</td>\n",
              "    </tr>\n",
              "    <tr>\n",
              "      <th>4</th>\n",
              "      <td>11216</td>\n",
              "      <td>40.678832</td>\n",
              "      <td>-73.950677</td>\n",
              "      <td>300 Madison St, Brooklyn, NY 11216, USA</td>\n",
              "      <td>NY</td>\n",
              "      <td>Brooklyn</td>\n",
              "      <td>NY</td>\n",
              "      <td>$0 with GH+</td>\n",
              "      <td>40.678226</td>\n",
              "      <td>-73.949440</td>\n",
              "      <td>...</td>\n",
              "      <td>1.99</td>\n",
              "      <td>20-40</td>\n",
              "      <td>30.0</td>\n",
              "      <td>5.25</td>\n",
              "      <td>7188726299</td>\n",
              "      <td>0</td>\n",
              "      <td>0.00</td>\n",
              "      <td>2022-04-25 07:01:11</td>\n",
              "      <td>[\"SUBSCRIPTION_ELIGIBLE_FOR_STANDARD_ORDER\", \"...</td>\n",
              "      <td>GRUBHUB</td>\n",
              "    </tr>\n",
              "    <tr>\n",
              "      <th>5</th>\n",
              "      <td>10003</td>\n",
              "      <td>40.732473</td>\n",
              "      <td>-73.987380</td>\n",
              "      <td>41 Cooper Square, 7 E 7th St, New York, NY 100...</td>\n",
              "      <td>NY</td>\n",
              "      <td>New York</td>\n",
              "      <td>NY</td>\n",
              "      <td>$0 with GH+</td>\n",
              "      <td>40.732300</td>\n",
              "      <td>-73.987343</td>\n",
              "      <td>...</td>\n",
              "      <td>0.00</td>\n",
              "      <td>35-55</td>\n",
              "      <td>45.0</td>\n",
              "      <td>0.00</td>\n",
              "      <td>2128449789</td>\n",
              "      <td>347</td>\n",
              "      <td>4.60</td>\n",
              "      <td>2022-04-25 07:01:11</td>\n",
              "      <td>[\"PRICING_ELIGIBLE_FOR_STANDARD_ORDER\", \"SUBSC...</td>\n",
              "      <td>SELF</td>\n",
              "    </tr>\n",
              "    <tr>\n",
              "      <th>6</th>\n",
              "      <td>11216</td>\n",
              "      <td>40.678832</td>\n",
              "      <td>-73.950677</td>\n",
              "      <td>300 Madison St, Brooklyn, NY 11216, USA</td>\n",
              "      <td>NY</td>\n",
              "      <td>Brooklyn</td>\n",
              "      <td>NY</td>\n",
              "      <td>$0 with GH+</td>\n",
              "      <td>40.678226</td>\n",
              "      <td>-73.949440</td>\n",
              "      <td>...</td>\n",
              "      <td>2.50</td>\n",
              "      <td>65-80</td>\n",
              "      <td>72.5</td>\n",
              "      <td>0.00</td>\n",
              "      <td>7188726299</td>\n",
              "      <td>40</td>\n",
              "      <td>4.40</td>\n",
              "      <td>2022-04-25 07:01:11</td>\n",
              "      <td>[\"SUBSCRIPTION_ELIGIBLE_FOR_STANDARD_ORDER\"]</td>\n",
              "      <td>SELF</td>\n",
              "    </tr>\n",
              "    <tr>\n",
              "      <th>7</th>\n",
              "      <td>10003</td>\n",
              "      <td>40.732473</td>\n",
              "      <td>-73.987380</td>\n",
              "      <td>41 Cooper Square, 7 E 7th St, New York, NY 100...</td>\n",
              "      <td>NY</td>\n",
              "      <td>New York</td>\n",
              "      <td>NY</td>\n",
              "      <td>$0 with GH+</td>\n",
              "      <td>40.732382</td>\n",
              "      <td>-73.988097</td>\n",
              "      <td>...</td>\n",
              "      <td>0.00</td>\n",
              "      <td>35-50</td>\n",
              "      <td>42.5</td>\n",
              "      <td>0.00</td>\n",
              "      <td>2123889755</td>\n",
              "      <td>6290</td>\n",
              "      <td>4.89</td>\n",
              "      <td>2022-04-25 07:01:11</td>\n",
              "      <td>[\"PRICING_ELIGIBLE_FOR_STANDARD_ORDER\", \"SUBSC...</td>\n",
              "      <td>SELF</td>\n",
              "    </tr>\n",
              "    <tr>\n",
              "      <th>8</th>\n",
              "      <td>11216</td>\n",
              "      <td>40.678832</td>\n",
              "      <td>-73.950677</td>\n",
              "      <td>300 Madison St, Brooklyn, NY 11216, USA</td>\n",
              "      <td>NY</td>\n",
              "      <td>Brooklyn</td>\n",
              "      <td>NY</td>\n",
              "      <td>$0 with GH+</td>\n",
              "      <td>40.678226</td>\n",
              "      <td>-73.949440</td>\n",
              "      <td>...</td>\n",
              "      <td>1.99</td>\n",
              "      <td>25-45</td>\n",
              "      <td>35.0</td>\n",
              "      <td>5.25</td>\n",
              "      <td>7188726299</td>\n",
              "      <td>0</td>\n",
              "      <td>0.00</td>\n",
              "      <td>2022-04-25 07:01:11</td>\n",
              "      <td>[\"SUBSCRIPTION_ELIGIBLE_FOR_STANDARD_ORDER\", \"...</td>\n",
              "      <td>GRUBHUB</td>\n",
              "    </tr>\n",
              "    <tr>\n",
              "      <th>9</th>\n",
              "      <td>10003</td>\n",
              "      <td>40.732473</td>\n",
              "      <td>-73.987380</td>\n",
              "      <td>41 Cooper Square, 7 E 7th St, New York, NY 100...</td>\n",
              "      <td>NY</td>\n",
              "      <td>New York</td>\n",
              "      <td>NY</td>\n",
              "      <td>$0 with GH+</td>\n",
              "      <td>40.732822</td>\n",
              "      <td>-73.986809</td>\n",
              "      <td>...</td>\n",
              "      <td>3.25</td>\n",
              "      <td>45-60</td>\n",
              "      <td>52.5</td>\n",
              "      <td>0.00</td>\n",
              "      <td>6466924120</td>\n",
              "      <td>6</td>\n",
              "      <td>3.04</td>\n",
              "      <td>2022-04-25 07:01:11</td>\n",
              "      <td>[\"SUBSCRIPTION_ELIGIBLE_FOR_STANDARD_ORDER\", \"...</td>\n",
              "      <td>SELF</td>\n",
              "    </tr>\n",
              "  </tbody>\n",
              "</table>\n",
              "<p>10 rows × 27 columns</p>\n",
              "</div>"
            ],
            "text/plain": [
              "   searched_zipcode  searched_lat  searched_lng   \n",
              "0             11216     40.678832    -73.950677  \\\n",
              "1             11216     40.678832    -73.950677   \n",
              "2             11216     40.678832    -73.950677   \n",
              "3             11216     40.678832    -73.950677   \n",
              "4             11216     40.678832    -73.950677   \n",
              "5             10003     40.732473    -73.987380   \n",
              "6             11216     40.678832    -73.950677   \n",
              "7             10003     40.732473    -73.987380   \n",
              "8             11216     40.678832    -73.950677   \n",
              "9             10003     40.732473    -73.987380   \n",
              "\n",
              "                                    searched_address searched_state   \n",
              "0            300 Madison St, Brooklyn, NY 11216, USA             NY  \\\n",
              "1            300 Madison St, Brooklyn, NY 11216, USA             NY   \n",
              "2            300 Madison St, Brooklyn, NY 11216, USA             NY   \n",
              "3            300 Madison St, Brooklyn, NY 11216, USA             NY   \n",
              "4            300 Madison St, Brooklyn, NY 11216, USA             NY   \n",
              "5  41 Cooper Square, 7 E 7th St, New York, NY 100...             NY   \n",
              "6            300 Madison St, Brooklyn, NY 11216, USA             NY   \n",
              "7  41 Cooper Square, 7 E 7th St, New York, NY 100...             NY   \n",
              "8            300 Madison St, Brooklyn, NY 11216, USA             NY   \n",
              "9  41 Cooper Square, 7 E 7th St, New York, NY 100...             NY   \n",
              "\n",
              "  searched_city searched_metro        is_gh   latitude  longitude  ...   \n",
              "0      Brooklyn             NY  $0 with GH+  40.678829 -73.949867  ...  \\\n",
              "1      Brooklyn             NY  $0 with GH+  40.678715 -73.949875  ...   \n",
              "2      Brooklyn             NY  $0 with GH+  40.678879 -73.949448  ...   \n",
              "3      Brooklyn             NY  $0 with GH+  40.678638 -73.949463  ...   \n",
              "4      Brooklyn             NY  $0 with GH+  40.678226 -73.949440  ...   \n",
              "5      New York             NY  $0 with GH+  40.732300 -73.987343  ...   \n",
              "6      Brooklyn             NY  $0 with GH+  40.678226 -73.949440  ...   \n",
              "7      New York             NY  $0 with GH+  40.732382 -73.988097  ...   \n",
              "8      Brooklyn             NY  $0 with GH+  40.678226 -73.949440  ...   \n",
              "9      New York             NY  $0 with GH+  40.732822 -73.986809  ...   \n",
              "\n",
              "   delivery_fee delivery_time_raw  delivery_time service_fee       phone   \n",
              "0          0.00             35-45           40.0        0.00  3476278080  \\\n",
              "1          0.00             35-55           45.0        0.00  7188577011   \n",
              "2          1.99             20-35           27.5       10.00  7186223222   \n",
              "3          1.99             25-35           30.0        7.25  3472408610   \n",
              "4          1.99             20-40           30.0        5.25  7188726299   \n",
              "5          0.00             35-55           45.0        0.00  2128449789   \n",
              "6          2.50             65-80           72.5        0.00  7188726299   \n",
              "7          0.00             35-50           42.5        0.00  2123889755   \n",
              "8          1.99             25-45           35.0        5.25  7188726299   \n",
              "9          3.25             45-60           52.5        0.00  6466924120   \n",
              "\n",
              "  review_count review_rating              RunDate   \n",
              "0         1691          4.57  2022-04-25 07:01:11  \\\n",
              "1          697          4.77  2022-04-25 07:01:11   \n",
              "2           11          3.67  2022-04-25 07:01:11   \n",
              "3          208          4.05  2022-04-25 07:01:11   \n",
              "4            0          0.00  2022-04-25 07:01:11   \n",
              "5          347          4.60  2022-04-25 07:01:11   \n",
              "6           40          4.40  2022-04-25 07:01:11   \n",
              "7         6290          4.89  2022-04-25 07:01:11   \n",
              "8            0          0.00  2022-04-25 07:01:11   \n",
              "9            6          3.04  2022-04-25 07:01:11   \n",
              "\n",
              "                                     restaurant_tags  delivery_type  \n",
              "0  [\"PRICING_ELIGIBLE_FOR_STANDARD_ORDER\", \"SUBSC...           SELF  \n",
              "1  [\"PRICING_ELIGIBLE_FOR_STANDARD_ORDER\", \"SUBSC...           SELF  \n",
              "2       [\"SUBSCRIPTION_ELIGIBLE_FOR_STANDARD_ORDER\"]        GRUBHUB  \n",
              "3  [\"PRICING_ELIGIBLE_FOR_STANDARD_ORDER\", \"SUBSC...        GRUBHUB  \n",
              "4  [\"SUBSCRIPTION_ELIGIBLE_FOR_STANDARD_ORDER\", \"...        GRUBHUB  \n",
              "5  [\"PRICING_ELIGIBLE_FOR_STANDARD_ORDER\", \"SUBSC...           SELF  \n",
              "6       [\"SUBSCRIPTION_ELIGIBLE_FOR_STANDARD_ORDER\"]           SELF  \n",
              "7  [\"PRICING_ELIGIBLE_FOR_STANDARD_ORDER\", \"SUBSC...           SELF  \n",
              "8  [\"SUBSCRIPTION_ELIGIBLE_FOR_STANDARD_ORDER\", \"...        GRUBHUB  \n",
              "9  [\"SUBSCRIPTION_ELIGIBLE_FOR_STANDARD_ORDER\", \"...           SELF  \n",
              "\n",
              "[10 rows x 27 columns]"
            ]
          },
          "execution_count": 3,
          "metadata": {},
          "output_type": "execute_result"
        }
      ],
      "source": [
        "df.head(10)"
      ]
    },
    {
      "cell_type": "markdown",
      "metadata": {
        "id": "8Ew1CCZVPVSe"
      },
      "source": [
        "Original DATA\n",
        "\n",
        "Total observations = 8088\n",
        "\n",
        "Dependent Variable = review_rating\n",
        "\n",
        "Numerical attributes = 14\n",
        "\n",
        "Categorical attributes = 12"
      ]
    },
    {
      "cell_type": "markdown",
      "metadata": {
        "id": "Tn4p0diozoa8"
      },
      "source": [
        "Dropping customer personal information"
      ]
    },
    {
      "cell_type": "code",
      "execution_count": null,
      "metadata": {
        "id": "lejm8WnOHJfG"
      },
      "outputs": [],
      "source": [
        "df.drop(['phone', 'address'],axis=1,inplace= True)"
      ]
    },
    {
      "cell_type": "code",
      "execution_count": null,
      "metadata": {
        "id": "6DBO4I0pzoa8"
      },
      "outputs": [],
      "source": [
        "df.drop(['searched_lat', 'searched_address','loc_number','searched_lng', 'latitude', 'longitude', 'url', 'delivery_time_raw','delivery_fee_raw', 'RunDate'],axis=1,inplace= True)"
      ]
    },
    {
      "cell_type": "markdown",
      "metadata": {
        "id": "kc1eNXldGJw1"
      },
      "source": [
        "Columns : \"searched_lat\", \"searched_long\",\"url\",\"delivery_fee_raw\",\"delivery_time_raw\" will not be handy in predicting the dependent variable \"review_rating\" ; Hence we will remove thoise columns from the dataset."
      ]
    },
    {
      "cell_type": "code",
      "execution_count": null,
      "metadata": {
        "colab": {
          "base_uri": "https://localhost:8080/"
        },
        "id": "KMiKB9C3IFGC",
        "outputId": "c88e08fa-77ca-41b2-d245-2b154dec9a1d"
      },
      "outputs": [
        {
          "data": {
            "text/plain": [
              "Index(['searched_zipcode', 'searched_state', 'searched_city', 'searched_metro',\n",
              "       'is_gh', 'distance', 'loc_name', 'cuisines', 'delivery_fee',\n",
              "       'delivery_time', 'service_fee', 'review_count', 'review_rating',\n",
              "       'restaurant_tags', 'delivery_type'],\n",
              "      dtype='object')"
            ]
          },
          "execution_count": 6,
          "metadata": {},
          "output_type": "execute_result"
        }
      ],
      "source": [
        "df.columns"
      ]
    },
    {
      "cell_type": "code",
      "execution_count": null,
      "metadata": {
        "colab": {
          "base_uri": "https://localhost:8080/"
        },
        "id": "ulzdTsPtIieV",
        "outputId": "d515c0e4-98cf-4548-fbe3-4f5be5f23e73"
      },
      "outputs": [
        {
          "data": {
            "text/plain": [
              "(8088, 15)"
            ]
          },
          "execution_count": 7,
          "metadata": {},
          "output_type": "execute_result"
        }
      ],
      "source": [
        "df.shape"
      ]
    },
    {
      "cell_type": "markdown",
      "metadata": {
        "id": "qKraXKKczoa9"
      },
      "source": [
        "# Q1. What are the data types?"
      ]
    },
    {
      "cell_type": "code",
      "execution_count": null,
      "metadata": {
        "colab": {
          "base_uri": "https://localhost:8080/"
        },
        "id": "gZckZMI1JozD",
        "outputId": "0d2732c1-8645-4acd-d399-9c3fd7a820fe"
      },
      "outputs": [
        {
          "name": "stdout",
          "output_type": "stream",
          "text": [
            "The categoric datatypes are: ['searched_state', 'searched_city', 'searched_metro', 'is_gh', 'loc_name', 'cuisines', 'restaurant_tags', 'delivery_type']\n",
            "The numeric datatypes are: ['searched_zipcode', 'distance', 'delivery_fee', 'delivery_time', 'service_fee', 'review_count', 'review_rating']\n"
          ]
        }
      ],
      "source": [
        "categorical_attributes = df.select_dtypes(exclude=[np.number]).columns.tolist()\n",
        "print(\"The categoric datatypes are:\", categorical_attributes)\n",
        "numeric_attributes = df.select_dtypes(include=[np.number]).columns.tolist()\n",
        "print(\"The numeric datatypes are:\", numeric_attributes)"
      ]
    },
    {
      "cell_type": "markdown",
      "metadata": {
        "id": "UhBcRF35zoa-"
      },
      "source": [
        "Converting \"is_gh\" to a column indicating GrubHub premium users"
      ]
    },
    {
      "cell_type": "code",
      "execution_count": null,
      "metadata": {
        "id": "FGClUSduzoa-"
      },
      "outputs": [],
      "source": [
        "df.loc[df['is_gh'] != \"$0 with GH+\", 'is_gh'] = 0\n",
        "df.loc[df['is_gh'] == \"$0 with GH+\", 'is_gh'] = 1\n"
      ]
    },
    {
      "cell_type": "code",
      "execution_count": null,
      "metadata": {
        "id": "sgvmuU2lzoa-",
        "outputId": "5126a9e9-4ab2-482a-9ef9-598d8bae44b4"
      },
      "outputs": [
        {
          "data": {
            "text/html": [
              "<div>\n",
              "<style scoped>\n",
              "    .dataframe tbody tr th:only-of-type {\n",
              "        vertical-align: middle;\n",
              "    }\n",
              "\n",
              "    .dataframe tbody tr th {\n",
              "        vertical-align: top;\n",
              "    }\n",
              "\n",
              "    .dataframe thead th {\n",
              "        text-align: right;\n",
              "    }\n",
              "</style>\n",
              "<table border=\"1\" class=\"dataframe\">\n",
              "  <thead>\n",
              "    <tr style=\"text-align: right;\">\n",
              "      <th></th>\n",
              "      <th>searched_zipcode</th>\n",
              "      <th>searched_state</th>\n",
              "      <th>searched_city</th>\n",
              "      <th>searched_metro</th>\n",
              "      <th>is_gh</th>\n",
              "      <th>distance</th>\n",
              "      <th>loc_name</th>\n",
              "      <th>cuisines</th>\n",
              "      <th>delivery_fee</th>\n",
              "      <th>delivery_time</th>\n",
              "      <th>service_fee</th>\n",
              "      <th>review_count</th>\n",
              "      <th>review_rating</th>\n",
              "      <th>restaurant_tags</th>\n",
              "      <th>delivery_type</th>\n",
              "    </tr>\n",
              "  </thead>\n",
              "  <tbody>\n",
              "    <tr>\n",
              "      <th>0</th>\n",
              "      <td>11216</td>\n",
              "      <td>NY</td>\n",
              "      <td>Brooklyn</td>\n",
              "      <td>NY</td>\n",
              "      <td>1</td>\n",
              "      <td>0.04</td>\n",
              "      <td>Chun Vegetarian</td>\n",
              "      <td>[\"Asian\", \"Vegan\", \"Vegetarian\"]</td>\n",
              "      <td>0.00</td>\n",
              "      <td>40.0</td>\n",
              "      <td>0.00</td>\n",
              "      <td>1691</td>\n",
              "      <td>4.57</td>\n",
              "      <td>[\"PRICING_ELIGIBLE_FOR_STANDARD_ORDER\", \"SUBSC...</td>\n",
              "      <td>SELF</td>\n",
              "    </tr>\n",
              "    <tr>\n",
              "      <th>1</th>\n",
              "      <td>11216</td>\n",
              "      <td>NY</td>\n",
              "      <td>Brooklyn</td>\n",
              "      <td>NY</td>\n",
              "      <td>1</td>\n",
              "      <td>0.04</td>\n",
              "      <td>India House</td>\n",
              "      <td>[\"Healthy\", \"Indian\", \"Lunch Specials\", \"Veget...</td>\n",
              "      <td>0.00</td>\n",
              "      <td>45.0</td>\n",
              "      <td>0.00</td>\n",
              "      <td>697</td>\n",
              "      <td>4.77</td>\n",
              "      <td>[\"PRICING_ELIGIBLE_FOR_STANDARD_ORDER\", \"SUBSC...</td>\n",
              "      <td>SELF</td>\n",
              "    </tr>\n",
              "    <tr>\n",
              "      <th>2</th>\n",
              "      <td>11216</td>\n",
              "      <td>NY</td>\n",
              "      <td>Brooklyn</td>\n",
              "      <td>NY</td>\n",
              "      <td>1</td>\n",
              "      <td>0.06</td>\n",
              "      <td>Pattie Hut</td>\n",
              "      <td>[\"Chicken\", \"Soup\", \"Wings\"]</td>\n",
              "      <td>1.99</td>\n",
              "      <td>27.5</td>\n",
              "      <td>10.00</td>\n",
              "      <td>11</td>\n",
              "      <td>3.67</td>\n",
              "      <td>[\"SUBSCRIPTION_ELIGIBLE_FOR_STANDARD_ORDER\"]</td>\n",
              "      <td>GRUBHUB</td>\n",
              "    </tr>\n",
              "    <tr>\n",
              "      <th>3</th>\n",
              "      <td>11216</td>\n",
              "      <td>NY</td>\n",
              "      <td>Brooklyn</td>\n",
              "      <td>NY</td>\n",
              "      <td>1</td>\n",
              "      <td>0.07</td>\n",
              "      <td>Texas Chicken and Burgers</td>\n",
              "      <td>[\"Chicken\", \"Hamburgers\", \"Southern\", \"Wings\"]</td>\n",
              "      <td>1.99</td>\n",
              "      <td>30.0</td>\n",
              "      <td>7.25</td>\n",
              "      <td>208</td>\n",
              "      <td>4.05</td>\n",
              "      <td>[\"PRICING_ELIGIBLE_FOR_STANDARD_ORDER\", \"SUBSC...</td>\n",
              "      <td>GRUBHUB</td>\n",
              "    </tr>\n",
              "    <tr>\n",
              "      <th>4</th>\n",
              "      <td>11216</td>\n",
              "      <td>NY</td>\n",
              "      <td>Brooklyn</td>\n",
              "      <td>NY</td>\n",
              "      <td>1</td>\n",
              "      <td>0.08</td>\n",
              "      <td>Grilled &amp; Cheesy</td>\n",
              "      <td>[\"American\", \"Sandwiches\"]</td>\n",
              "      <td>1.99</td>\n",
              "      <td>30.0</td>\n",
              "      <td>5.25</td>\n",
              "      <td>0</td>\n",
              "      <td>0.00</td>\n",
              "      <td>[\"SUBSCRIPTION_ELIGIBLE_FOR_STANDARD_ORDER\", \"...</td>\n",
              "      <td>GRUBHUB</td>\n",
              "    </tr>\n",
              "  </tbody>\n",
              "</table>\n",
              "</div>"
            ],
            "text/plain": [
              "   searched_zipcode searched_state searched_city searched_metro is_gh   \n",
              "0             11216             NY      Brooklyn             NY     1  \\\n",
              "1             11216             NY      Brooklyn             NY     1   \n",
              "2             11216             NY      Brooklyn             NY     1   \n",
              "3             11216             NY      Brooklyn             NY     1   \n",
              "4             11216             NY      Brooklyn             NY     1   \n",
              "\n",
              "   distance                   loc_name   \n",
              "0      0.04            Chun Vegetarian  \\\n",
              "1      0.04                India House   \n",
              "2      0.06                 Pattie Hut   \n",
              "3      0.07  Texas Chicken and Burgers   \n",
              "4      0.08           Grilled & Cheesy   \n",
              "\n",
              "                                            cuisines  delivery_fee   \n",
              "0                   [\"Asian\", \"Vegan\", \"Vegetarian\"]          0.00  \\\n",
              "1  [\"Healthy\", \"Indian\", \"Lunch Specials\", \"Veget...          0.00   \n",
              "2                       [\"Chicken\", \"Soup\", \"Wings\"]          1.99   \n",
              "3     [\"Chicken\", \"Hamburgers\", \"Southern\", \"Wings\"]          1.99   \n",
              "4                         [\"American\", \"Sandwiches\"]          1.99   \n",
              "\n",
              "   delivery_time  service_fee  review_count  review_rating   \n",
              "0           40.0         0.00          1691           4.57  \\\n",
              "1           45.0         0.00           697           4.77   \n",
              "2           27.5        10.00            11           3.67   \n",
              "3           30.0         7.25           208           4.05   \n",
              "4           30.0         5.25             0           0.00   \n",
              "\n",
              "                                     restaurant_tags delivery_type  \n",
              "0  [\"PRICING_ELIGIBLE_FOR_STANDARD_ORDER\", \"SUBSC...          SELF  \n",
              "1  [\"PRICING_ELIGIBLE_FOR_STANDARD_ORDER\", \"SUBSC...          SELF  \n",
              "2       [\"SUBSCRIPTION_ELIGIBLE_FOR_STANDARD_ORDER\"]       GRUBHUB  \n",
              "3  [\"PRICING_ELIGIBLE_FOR_STANDARD_ORDER\", \"SUBSC...       GRUBHUB  \n",
              "4  [\"SUBSCRIPTION_ELIGIBLE_FOR_STANDARD_ORDER\", \"...       GRUBHUB  "
            ]
          },
          "execution_count": 10,
          "metadata": {},
          "output_type": "execute_result"
        }
      ],
      "source": [
        "df.head()"
      ]
    },
    {
      "cell_type": "markdown",
      "metadata": {
        "id": "HRj4RYBCJ4Is"
      },
      "source": [
        "Having \"searched_zipcode\", \"searched_address\" as 2 independent columns in the dataset can help us drop the columns of latitude and longitude. Location of the restaurant is a significant factor in customer reviews but location number doesn`t hold much potential in doing so.\n"
      ]
    },
    {
      "cell_type": "markdown",
      "metadata": {
        "id": "MpZxPpoqzoa_"
      },
      "source": [
        "# Q2. Are there any missing values?"
      ]
    },
    {
      "cell_type": "code",
      "execution_count": null,
      "metadata": {
        "colab": {
          "base_uri": "https://localhost:8080/"
        },
        "id": "lyeJqq3aLXK_",
        "outputId": "de57f737-5861-44b3-dbe5-dd38ba5777ed"
      },
      "outputs": [
        {
          "data": {
            "text/plain": [
              "searched_zipcode     0\n",
              "searched_state       0\n",
              "searched_city        0\n",
              "searched_metro       0\n",
              "is_gh                0\n",
              "distance             0\n",
              "loc_name             0\n",
              "cuisines             0\n",
              "delivery_fee         0\n",
              "delivery_time        0\n",
              "service_fee          0\n",
              "review_count         0\n",
              "review_rating        0\n",
              "restaurant_tags     22\n",
              "delivery_type        0\n",
              "dtype: int64"
            ]
          },
          "execution_count": 11,
          "metadata": {},
          "output_type": "execute_result"
        }
      ],
      "source": [
        "df.isnull().sum()"
      ]
    },
    {
      "cell_type": "markdown",
      "metadata": {
        "id": "Z5Zg-Vbnzoa_"
      },
      "source": [
        "# Q3. What are the likely distributions of the numeric variables?"
      ]
    },
    {
      "cell_type": "code",
      "execution_count": null,
      "metadata": {
        "id": "9H1qN-iJzoa_",
        "outputId": "67d7f000-1091-41c3-b7b9-3bbd5209cb4c"
      },
      "outputs": [
        {
          "data": {
            "image/png": "[encoded data removed]",
            "text/plain": [
              "<Figure size 360x360 with 1 Axes>"
            ]
          },
          "metadata": {
            "needs_background": "light"
          },
          "output_type": "display_data"
        },
        {
          "data": {
            "image/png": "[encoded data removed]",
            "text/plain": [
              "<Figure size 360x360 with 1 Axes>"
            ]
          },
          "metadata": {
            "needs_background": "light"
          },
          "output_type": "display_data"
        },
        {
          "data": {
            "image/png": "[encoded data removed]",
            "text/plain": [
              "<Figure size 360x360 with 1 Axes>"
            ]
          },
          "metadata": {
            "needs_background": "light"
          },
          "output_type": "display_data"
        },
        {
          "data": {
            "image/png": "[encoded data removed]",
            "text/plain": [
              "<Figure size 360x360 with 1 Axes>"
            ]
          },
          "metadata": {
            "needs_background": "light"
          },
          "output_type": "display_data"
        },
        {
          "data": {
            "image/png": "[encoded data removed]",
            "text/plain": [
              "<Figure size 360x360 with 1 Axes>"
            ]
          },
          "metadata": {
            "needs_background": "light"
          },
          "output_type": "display_data"
        },
        {
          "data": {
            "image/png": "[encoded data removed]",
            "text/plain": [
              "<Figure size 360x360 with 1 Axes>"
            ]
          },
          "metadata": {
            "needs_background": "light"
          },
          "output_type": "display_data"
        },
        {
          "data": {
            "image/png": "[encoded data removed]",
            "text/plain": [
              "<Figure size 360x360 with 1 Axes>"
            ]
          },
          "metadata": {
            "needs_background": "light"
          },
          "output_type": "display_data"
        },
        {
          "data": {
            "image/png": "[encoded data removed]",
            "text/plain": [
              "<Figure size 360x360 with 1 Axes>"
            ]
          },
          "metadata": {
            "needs_background": "light"
          },
          "output_type": "display_data"
        }
      ],
      "source": [
        "import matplotlib.pyplot as plt\n",
        "data_norm = df[numeric_attributes]\n",
        "for c in data_norm.columns[:]:\n",
        "    sns.displot(df, x=c, bins=20)"
      ]
    },
    {
      "cell_type": "markdown",
      "metadata": {
        "id": "zTWqRng6zobA"
      },
      "source": [
        "# Normalizing the dataset"
      ]
    },
    {
      "cell_type": "code",
      "execution_count": null,
      "metadata": {
        "id": "dcTIoPkCzobA"
      },
      "outputs": [],
      "source": [
        "\n",
        "scaled_df = pd.DataFrame(d, columns=data_norm.columns)"
      ]
    },
    {
      "cell_type": "code",
      "execution_count": null,
      "metadata": {
        "id": "-WBnhVsMzobA"
      },
      "outputs": [],
      "source": [
        "from sklearn import preprocessing\n",
        "d = preprocessing.normalize(data_norm)"
      ]
    },
    {
      "cell_type": "markdown",
      "metadata": {
        "id": "XKt3pSgxzobA"
      },
      "source": [
        "# Q4. Which independent variables are useful to predict a target (dependent variable)?"
      ]
    },
    {
      "cell_type": "code",
      "execution_count": null,
      "metadata": {
        "id": "QxO7Aco0zobA",
        "outputId": "07dd6cd9-099f-4abb-f550-31ab8a63dd39"
      },
      "outputs": [
        {
          "data": {
            "text/html": [
              "<div>\n",
              "<style scoped>\n",
              "    .dataframe tbody tr th:only-of-type {\n",
              "        vertical-align: middle;\n",
              "    }\n",
              "\n",
              "    .dataframe tbody tr th {\n",
              "        vertical-align: top;\n",
              "    }\n",
              "\n",
              "    .dataframe thead th {\n",
              "        text-align: right;\n",
              "    }\n",
              "</style>\n",
              "<table border=\"1\" class=\"dataframe\">\n",
              "  <thead>\n",
              "    <tr style=\"text-align: right;\">\n",
              "      <th></th>\n",
              "      <th>searched_zipcode</th>\n",
              "      <th>distance</th>\n",
              "      <th>delivery_fee</th>\n",
              "      <th>delivery_time</th>\n",
              "      <th>service_fee</th>\n",
              "      <th>review_count</th>\n",
              "      <th>review_rating</th>\n",
              "      <th>delivery_type_SELF</th>\n",
              "    </tr>\n",
              "  </thead>\n",
              "  <tbody>\n",
              "    <tr>\n",
              "      <th>searched_zipcode</th>\n",
              "      <td>1.000000</td>\n",
              "      <td>-0.176169</td>\n",
              "      <td>-0.196454</td>\n",
              "      <td>-0.230451</td>\n",
              "      <td>-0.035307</td>\n",
              "      <td>-0.882746</td>\n",
              "      <td>-0.238533</td>\n",
              "      <td>-0.296813</td>\n",
              "    </tr>\n",
              "    <tr>\n",
              "      <th>distance</th>\n",
              "      <td>-0.176169</td>\n",
              "      <td>1.000000</td>\n",
              "      <td>0.915701</td>\n",
              "      <td>0.889786</td>\n",
              "      <td>0.686231</td>\n",
              "      <td>0.277676</td>\n",
              "      <td>0.827364</td>\n",
              "      <td>0.181474</td>\n",
              "    </tr>\n",
              "    <tr>\n",
              "      <th>delivery_fee</th>\n",
              "      <td>-0.196454</td>\n",
              "      <td>0.915701</td>\n",
              "      <td>1.000000</td>\n",
              "      <td>0.925606</td>\n",
              "      <td>0.701462</td>\n",
              "      <td>0.304310</td>\n",
              "      <td>0.856697</td>\n",
              "      <td>0.280876</td>\n",
              "    </tr>\n",
              "    <tr>\n",
              "      <th>delivery_time</th>\n",
              "      <td>-0.230451</td>\n",
              "      <td>0.889786</td>\n",
              "      <td>0.925606</td>\n",
              "      <td>1.000000</td>\n",
              "      <td>0.705096</td>\n",
              "      <td>0.362605</td>\n",
              "      <td>0.902637</td>\n",
              "      <td>0.319243</td>\n",
              "    </tr>\n",
              "    <tr>\n",
              "      <th>service_fee</th>\n",
              "      <td>-0.035307</td>\n",
              "      <td>0.686231</td>\n",
              "      <td>0.701462</td>\n",
              "      <td>0.705096</td>\n",
              "      <td>1.000000</td>\n",
              "      <td>0.094451</td>\n",
              "      <td>0.671435</td>\n",
              "      <td>-0.204874</td>\n",
              "    </tr>\n",
              "    <tr>\n",
              "      <th>review_count</th>\n",
              "      <td>-0.882746</td>\n",
              "      <td>0.277676</td>\n",
              "      <td>0.304310</td>\n",
              "      <td>0.362605</td>\n",
              "      <td>0.094451</td>\n",
              "      <td>1.000000</td>\n",
              "      <td>0.396355</td>\n",
              "      <td>0.426298</td>\n",
              "    </tr>\n",
              "    <tr>\n",
              "      <th>review_rating</th>\n",
              "      <td>-0.238533</td>\n",
              "      <td>0.827364</td>\n",
              "      <td>0.856697</td>\n",
              "      <td>0.902637</td>\n",
              "      <td>0.671435</td>\n",
              "      <td>0.396355</td>\n",
              "      <td>1.000000</td>\n",
              "      <td>0.285979</td>\n",
              "    </tr>\n",
              "    <tr>\n",
              "      <th>delivery_type_SELF</th>\n",
              "      <td>-0.296813</td>\n",
              "      <td>0.181474</td>\n",
              "      <td>0.280876</td>\n",
              "      <td>0.319243</td>\n",
              "      <td>-0.204874</td>\n",
              "      <td>0.426298</td>\n",
              "      <td>0.285979</td>\n",
              "      <td>1.000000</td>\n",
              "    </tr>\n",
              "  </tbody>\n",
              "</table>\n",
              "</div>"
            ],
            "text/plain": [
              "                    searched_zipcode  distance  delivery_fee  delivery_time   \n",
              "searched_zipcode            1.000000 -0.176169     -0.196454      -0.230451  \\\n",
              "distance                   -0.176169  1.000000      0.915701       0.889786   \n",
              "delivery_fee               -0.196454  0.915701      1.000000       0.925606   \n",
              "delivery_time              -0.230451  0.889786      0.925606       1.000000   \n",
              "service_fee                -0.035307  0.686231      0.701462       0.705096   \n",
              "review_count               -0.882746  0.277676      0.304310       0.362605   \n",
              "review_rating              -0.238533  0.827364      0.856697       0.902637   \n",
              "delivery_type_SELF         -0.296813  0.181474      0.280876       0.319243   \n",
              "\n",
              "                    service_fee  review_count  review_rating   \n",
              "searched_zipcode      -0.035307     -0.882746      -0.238533  \\\n",
              "distance               0.686231      0.277676       0.827364   \n",
              "delivery_fee           0.701462      0.304310       0.856697   \n",
              "delivery_time          0.705096      0.362605       0.902637   \n",
              "service_fee            1.000000      0.094451       0.671435   \n",
              "review_count           0.094451      1.000000       0.396355   \n",
              "review_rating          0.671435      0.396355       1.000000   \n",
              "delivery_type_SELF    -0.204874      0.426298       0.285979   \n",
              "\n",
              "                    delivery_type_SELF  \n",
              "searched_zipcode             -0.296813  \n",
              "distance                      0.181474  \n",
              "delivery_fee                  0.280876  \n",
              "delivery_time                 0.319243  \n",
              "service_fee                  -0.204874  \n",
              "review_count                  0.426298  \n",
              "review_rating                 0.285979  \n",
              "delivery_type_SELF            1.000000  "
            ]
          },
          "execution_count": 24,
          "metadata": {},
          "output_type": "execute_result"
        }
      ],
      "source": [
        "scaled_df.corr()"
      ]
    },
    {
      "cell_type": "code",
      "execution_count": null,
      "metadata": {
        "id": "RV_tTVV7zobB",
        "outputId": "e59d4085-3dd7-41e2-87c4-ecf68bea9ca2"
      },
      "outputs": [
        {
          "data": {
            "image/png": "[encoded data removed]",
            "text/plain": [
              "<Figure size 432x288 with 2 Axes>"
            ]
          },
          "metadata": {
            "needs_background": "light"
          },
          "output_type": "display_data"
        }
      ],
      "source": [
        "sns.heatmap(scaled_df.corr());\n"
      ]
    },
    {
      "cell_type": "markdown",
      "metadata": {
        "id": "1AFR87y3zobB"
      },
      "source": [
        "# Q5. Which independent variables have missing data?"
      ]
    },
    {
      "cell_type": "code",
      "execution_count": null,
      "metadata": {
        "colab": {
          "base_uri": "https://localhost:8080/"
        },
        "id": "abVt4YYELvpz",
        "outputId": "51a0b098-f698-4ac2-e590-6c3440b939ff"
      },
      "outputs": [
        {
          "data": {
            "text/plain": [
              "searched_zipcode       0\n",
              "searched_state         0\n",
              "searched_city          0\n",
              "searched_metro         0\n",
              "is_gh                  0\n",
              "distance               0\n",
              "loc_name               0\n",
              "cuisines               0\n",
              "delivery_fee           0\n",
              "delivery_time          0\n",
              "service_fee            0\n",
              "review_count           0\n",
              "review_rating          0\n",
              "restaurant_tags       22\n",
              "delivery_type_SELF     0\n",
              "dtype: int64"
            ]
          },
          "execution_count": 53,
          "metadata": {},
          "output_type": "execute_result"
        }
      ],
      "source": [
        "#Rechecking null values\n",
        "df.isnull().sum()"
      ]
    },
    {
      "cell_type": "code",
      "execution_count": null,
      "metadata": {
        "id": "yYSR8hM2LdCM"
      },
      "outputs": [],
      "source": [
        "from sklearn.impute import SimpleImputer"
      ]
    },
    {
      "cell_type": "code",
      "execution_count": null,
      "metadata": {
        "id": "cHxMLcwJLgLc"
      },
      "outputs": [],
      "source": [
        "from sklearn.impute import SimpleImputer\n",
        "\n",
        "mode = SimpleImputer(strategy='most_frequent')\n",
        "df['restaurant_tags'] = mode.fit_transform(df['restaurant_tags'].values.reshape(-1, 1))\n"
      ]
    },
    {
      "cell_type": "markdown",
      "metadata": {
        "id": "1jtlpw6iSQjt"
      },
      "source": [
        "**Verification for Cleaned & Preprocessed Data**\n",
        "\n",
        "Total observations = 8088\n",
        "\n",
        "Dependent Variable = review_rating\n",
        "\n",
        "**1. Numerical attributes = 7 | Categorical attributes = 8**\n",
        "\n",
        "**2. Are there any missing values? : No**\n",
        "\n",
        "**4. Any independent variable has missing values? : No**"
      ]
    },
    {
      "cell_type": "markdown",
      "metadata": {
        "id": "879p3pa4zobB"
      },
      "source": [
        "# Q6. Do the training and test sets have the same data?"
      ]
    },
    {
      "cell_type": "code",
      "execution_count": null,
      "metadata": {
        "id": "aQlfyu-nzobB"
      },
      "outputs": [],
      "source": [
        "from sklearn.model_selection import train_test_split\n",
        "X_train, X_test, y_train, y_test = train_test_split(scaled_df[numeric_attributes], scaled_df['review_rating'], test_size=0.30, random_state=42)"
      ]
    },
    {
      "cell_type": "markdown",
      "metadata": {
        "id": "En62ICaKzobC"
      },
      "source": [
        "The training and test datasets have different values as the data is split."
      ]
    },
    {
      "cell_type": "markdown",
      "metadata": {
        "id": "guX9YpVYzobC"
      },
      "source": [
        "# Q7. Are the predictor variables independent of all the other predictor variables?\n",
        "Looking at the correlation matrix and the heatmap we conclude can that the predictor variables are independent of each other."
      ]
    },
    {
      "cell_type": "markdown",
      "metadata": {
        "id": "GYLvfchKzobC"
      },
      "source": [
        "# Q8. Which predictor variables are most important\n",
        "delivery_time and delivery_fee are the most important since they have the highest correlation with our dependent variable (review_rating)"
      ]
    },
    {
      "cell_type": "code",
      "execution_count": null,
      "metadata": {
        "id": "_Nf7RXOPU0sM"
      },
      "outputs": [],
      "source": [
        "numeric_attributes = df.select_dtypes(include=['number']).columns"
      ]
    },
    {
      "cell_type": "code",
      "execution_count": null,
      "metadata": {
        "id": "9P_yvfoszobQ"
      },
      "outputs": [],
      "source": [
        "for c in scaled_df.columns[:]:\n",
        "    print(c)\n",
        "    sns.boxplot(data=scaled_df, x=scaled_df[c], y= scaled_df['review_rating'])"
      ]
    },
    {
      "cell_type": "code",
      "execution_count": null,
      "metadata": {
        "id": "yjbA6VRbzobR",
        "outputId": "4e8713c5-d249-4a4e-844a-4936cf013c61"
      },
      "outputs": [
        {
          "name": "stderr",
          "output_type": "stream",
          "text": [
            "C:\\ProgramData\\Anaconda3\\lib\\site-packages\\seaborn\\distributions.py:305: UserWarning: Dataset has 0 variance; skipping density estimate.\n",
            "  warnings.warn(msg, UserWarning)\n"
          ]
        },
        {
          "data": {
            "image/png": "[encoded data removed]",
            "text/plain": [
              "<Figure size 360x360 with 1 Axes>"
            ]
          },
          "metadata": {
            "needs_background": "light"
          },
          "output_type": "display_data"
        },
        {
          "data": {
            "image/png": "[encoded data removed]",
            "text/plain": [
              "<Figure size 360x360 with 1 Axes>"
            ]
          },
          "metadata": {
            "needs_background": "light"
          },
          "output_type": "display_data"
        },
        {
          "data": {
            "image/png": "[encoded data removed]",
            "text/plain": [
              "<Figure size 360x360 with 1 Axes>"
            ]
          },
          "metadata": {
            "needs_background": "light"
          },
          "output_type": "display_data"
        },
        {
          "data": {
            "image/png": "[encoded data removed]",
            "text/plain": [
              "<Figure size 360x360 with 1 Axes>"
            ]
          },
          "metadata": {
            "needs_background": "light"
          },
          "output_type": "display_data"
        },
        {
          "data": {
            "image/png": "[encoded data removed]",
            "text/plain": [
              "<Figure size 360x360 with 1 Axes>"
            ]
          },
          "metadata": {
            "needs_background": "light"
          },
          "output_type": "display_data"
        },
        {
          "data": {
            "image/png": "[encoded data removed]",
            "text/plain": [
              "<Figure size 360x360 with 1 Axes>"
            ]
          },
          "metadata": {
            "needs_background": "light"
          },
          "output_type": "display_data"
        },
        {
          "data": {
            "image/png": "[encoded data removed]",
            "text/plain": [
              "<Figure size 360x360 with 1 Axes>"
            ]
          },
          "metadata": {
            "needs_background": "light"
          },
          "output_type": "display_data"
        },
        {
          "data": {
            "image/png": "[encoded data removed]",
            "text/plain": [
              "<Figure size 360x360 with 1 Axes>"
            ]
          },
          "metadata": {
            "needs_background": "light"
          },
          "output_type": "display_data"
        }
      ],
      "source": [
        "for c in scaled_df.columns[:]:\n",
        "    sns.displot(scaled_df, x=c, kind=\"kde\", fill=True)"
      ]
    },
    {
      "cell_type": "code",
      "execution_count": null,
      "metadata": {
        "id": "sxOqU7RbzobR",
        "outputId": "25c2356d-0a30-4276-8508-daf0a298a471"
      },
      "outputs": [
        {
          "data": {
            "text/plain": [
              "Index(['searched_zipcode', 'distance', 'delivery_fee', 'delivery_time',\n",
              "       'service_fee', 'review_count', 'review_rating', 'delivery_type_SELF'],\n",
              "      dtype='object')"
            ]
          },
          "execution_count": 33,
          "metadata": {},
          "output_type": "execute_result"
        }
      ],
      "source": [
        "scaled_df.columns"
      ]
    },
    {
      "cell_type": "markdown",
      "metadata": {
        "id": "CtlRZKk_zobR"
      },
      "source": [
        "# Removing the outliers using MinMaxScaler"
      ]
    },
    {
      "cell_type": "code",
      "execution_count": null,
      "metadata": {
        "id": "GxIu1txhzobR"
      },
      "outputs": [],
      "source": [
        "from sklearn.preprocessing import MinMaxScaler\n",
        "scaler= MinMaxScaler()\n",
        "scaledData = pd.DataFrame(scaler.fit_transform(scaled_df), columns=data_norm.columns)"
      ]
    },
    {
      "cell_type": "code",
      "execution_count": null,
      "metadata": {
        "id": "GQpdrB7XzobR",
        "outputId": "6341ce0e-78b7-4119-dd83-56aedf05a303"
      },
      "outputs": [
        {
          "data": {
            "image/png": "[encoded data removed]",
            "text/plain": [
              "<Figure size 360x360 with 1 Axes>"
            ]
          },
          "metadata": {
            "needs_background": "light"
          },
          "output_type": "display_data"
        },
        {
          "data": {
            "image/png": "[encoded data removed]",
            "text/plain": [
              "<Figure size 360x360 with 1 Axes>"
            ]
          },
          "metadata": {
            "needs_background": "light"
          },
          "output_type": "display_data"
        },
        {
          "data": {
            "image/png": "[encoded data removed]",
            "text/plain": [
              "<Figure size 360x360 with 1 Axes>"
            ]
          },
          "metadata": {
            "needs_background": "light"
          },
          "output_type": "display_data"
        },
        {
          "data": {
            "image/png": "[encoded data removed]",
            "text/plain": [
              "<Figure size 360x360 with 1 Axes>"
            ]
          },
          "metadata": {
            "needs_background": "light"
          },
          "output_type": "display_data"
        },
        {
          "data": {
            "image/png": "[encoded data removed]",
            "text/plain": [
              "<Figure size 360x360 with 1 Axes>"
            ]
          },
          "metadata": {
            "needs_background": "light"
          },
          "output_type": "display_data"
        },
        {
          "data": {
            "image/png": "[encoded data removed]",
            "text/plain": [
              "<Figure size 360x360 with 1 Axes>"
            ]
          },
          "metadata": {
            "needs_background": "light"
          },
          "output_type": "display_data"
        },
        {
          "data": {
            "image/png": "[encoded data removed]",
            "text/plain": [
              "<Figure size 360x360 with 1 Axes>"
            ]
          },
          "metadata": {
            "needs_background": "light"
          },
          "output_type": "display_data"
        },
        {
          "data": {
            "image/png": "[encoded data removed]",
            "text/plain": [
              "<Figure size 360x360 with 1 Axes>"
            ]
          },
          "metadata": {
            "needs_background": "light"
          },
          "output_type": "display_data"
        }
      ],
      "source": [
        "for c in scaledData.columns[:]:\n",
        "    sns.displot(scaledData, x=c)"
      ]
    },
    {
      "cell_type": "markdown",
      "metadata": {
        "id": "X7B9f5THzobS"
      },
      "source": [
        "# Running a linear regression model and calculating the accuracy\n"
      ]
    },
    {
      "cell_type": "code",
      "execution_count": null,
      "metadata": {
        "id": "_trkpUJ1zobS",
        "outputId": "191404f0-fdd5-4ecb-b688-5fb0aed7a0c1"
      },
      "outputs": [
        {
          "data": {
            "text/plain": [
              "0.7043654386093019"
            ]
          },
          "execution_count": 107,
          "metadata": {},
          "output_type": "execute_result"
        }
      ],
      "source": [
        "from sklearn.linear_model import LinearRegression\n",
        "from sklearn.metrics import confusion_matrix\n",
        "X= np.array(X_train['delivery_fee']).reshape(-1,1)\n",
        "y= np.array(y_train).reshape(-1,1)\n",
        "reg = LinearRegression().fit(X, y)\n",
        "y_toPredict = np.array(y_test).reshape(-1,1)\n",
        "y_pred = reg.predict(y_toPredict)\n",
        "\n",
        "y_test=np.array(y_test).reshape(-1,1)\n",
        "reg.score(np.array(X_test['delivery_fee']).reshape(-1,1), y_test)"
      ]
    },
    {
      "cell_type": "code",
      "execution_count": null,
      "metadata": {
        "id": "Gwwo7XQvzobS"
      },
      "outputs": [],
      "source": []
    }
  ],
  "metadata": {
    "colab": {
      "provenance": []
    },
    "kernelspec": {
      "display_name": "Python 3",
      "language": "python",
      "name": "python3"
    },
    "language_info": {
      "codemirror_mode": {
        "name": "ipython",
        "version": 3
      },
      "file_extension": ".py",
      "mimetype": "text/x-python",
      "name": "python",
      "nbconvert_exporter": "python",
      "pygments_lexer": "ipython3",
      "version": "3.8.5"
    }
  },
  "nbformat": 4,
  "nbformat_minor": 0
}